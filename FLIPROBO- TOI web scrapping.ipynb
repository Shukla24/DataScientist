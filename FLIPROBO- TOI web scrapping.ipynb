{
 "cells": [
  {
   "cell_type": "code",
   "execution_count": 1,
   "metadata": {},
   "outputs": [
    {
     "name": "stdout",
     "output_type": "stream",
     "text": [
      "Requirement already satisfied: Selenium in c:\\users\\shukl\\anaconda3\\lib\\site-packages (3.141.0)\n",
      "Requirement already satisfied: urllib3 in c:\\users\\shukl\\anaconda3\\lib\\site-packages (from Selenium) (1.25.11)\n"
     ]
    }
   ],
   "source": [
    "!pip install Selenium"
   ]
  },
  {
   "cell_type": "code",
   "execution_count": 2,
   "metadata": {},
   "outputs": [],
   "source": [
    "import selenium"
   ]
  },
  {
   "cell_type": "code",
   "execution_count": 3,
   "metadata": {},
   "outputs": [],
   "source": [
    "from selenium import webdriver as wd\n",
    "from bs4 import BeautifulSoup\n",
    "import pandas as pd"
   ]
  },
  {
   "cell_type": "code",
   "execution_count": 6,
   "metadata": {},
   "outputs": [
    {
     "name": "stdout",
     "output_type": "stream",
     "text": [
      "https://timesofindia.indiatimes.com/2015/11/1/archivelist/year-2015,month-11,starttime-42309.cms\n",
      "'href'\n",
      "https://timesofindia.indiatimes.com/2015/11/2/archivelist/year-2015,month-11,starttime-42310.cms\n",
      "'href'\n",
      "https://timesofindia.indiatimes.com/2015/11/3/archivelist/year-2015,month-11,starttime-42311.cms\n",
      "'href'\n",
      "https://timesofindia.indiatimes.com/2015/11/4/archivelist/year-2015,month-11,starttime-42312.cms\n",
      "'href'\n",
      "https://timesofindia.indiatimes.com/2015/11/5/archivelist/year-2015,month-11,starttime-42313.cms\n",
      "'href'\n",
      "https://timesofindia.indiatimes.com/2015/11/6/archivelist/year-2015,month-11,starttime-42314.cms\n",
      "'href'\n",
      "https://timesofindia.indiatimes.com/2015/11/7/archivelist/year-2015,month-11,starttime-42315.cms\n",
      "'href'\n",
      "https://timesofindia.indiatimes.com/2015/11/8/archivelist/year-2015,month-11,starttime-42316.cms\n",
      "'href'\n",
      "https://timesofindia.indiatimes.com/2015/11/9/archivelist/year-2015,month-11,starttime-42317.cms\n",
      "'href'\n",
      "https://timesofindia.indiatimes.com/2015/11/10/archivelist/year-2015,month-11,starttime-42318.cms\n",
      "'href'\n",
      "https://timesofindia.indiatimes.com/2015/11/11/archivelist/year-2015,month-11,starttime-42319.cms\n",
      "'href'\n",
      "https://timesofindia.indiatimes.com/2015/11/12/archivelist/year-2015,month-11,starttime-42320.cms\n",
      "'href'\n",
      "https://timesofindia.indiatimes.com/2015/11/13/archivelist/year-2015,month-11,starttime-42321.cms\n",
      "'href'\n",
      "https://timesofindia.indiatimes.com/2015/11/14/archivelist/year-2015,month-11,starttime-42322.cms\n",
      "'href'\n",
      "https://timesofindia.indiatimes.com/2015/11/15/archivelist/year-2015,month-11,starttime-42323.cms\n",
      "'href'\n",
      "https://timesofindia.indiatimes.com/2015/11/16/archivelist/year-2015,month-11,starttime-42324.cms\n",
      "'href'\n",
      "https://timesofindia.indiatimes.com/2015/11/17/archivelist/year-2015,month-11,starttime-42325.cms\n",
      "'href'\n",
      "https://timesofindia.indiatimes.com/2015/11/18/archivelist/year-2015,month-11,starttime-42326.cms\n",
      "'href'\n",
      "https://timesofindia.indiatimes.com/2015/11/19/archivelist/year-2015,month-11,starttime-42327.cms\n",
      "'href'\n",
      "https://timesofindia.indiatimes.com/2015/11/20/archivelist/year-2015,month-11,starttime-42328.cms\n",
      "'href'\n",
      "https://timesofindia.indiatimes.com/2015/11/21/archivelist/year-2015,month-11,starttime-42329.cms\n",
      "'href'\n",
      "https://timesofindia.indiatimes.com/2015/11/22/archivelist/year-2015,month-11,starttime-42330.cms\n",
      "'href'\n",
      "https://timesofindia.indiatimes.com/2015/11/23/archivelist/year-2015,month-11,starttime-42331.cms\n",
      "'href'\n",
      "https://timesofindia.indiatimes.com/2015/11/24/archivelist/year-2015,month-11,starttime-42332.cms\n",
      "'href'\n",
      "https://timesofindia.indiatimes.com/2015/11/25/archivelist/year-2015,month-11,starttime-42333.cms\n",
      "'href'\n",
      "https://timesofindia.indiatimes.com/2015/11/26/archivelist/year-2015,month-11,starttime-42334.cms\n",
      "'href'\n",
      "https://timesofindia.indiatimes.com/2015/11/27/archivelist/year-2015,month-11,starttime-42335.cms\n",
      "'href'\n",
      "https://timesofindia.indiatimes.com/2015/11/28/archivelist/year-2015,month-11,starttime-42336.cms\n",
      "'href'\n",
      "https://timesofindia.indiatimes.com/2015/11/29/archivelist/year-2015,month-11,starttime-42337.cms\n",
      "'href'\n",
      "https://timesofindia.indiatimes.com/2015/11/30/archivelist/year-2015,month-11,starttime-42338.cms\n",
      "'href'\n"
     ]
    }
   ],
   "source": [
    "#for link\n",
    "from bs4 import BeautifulSoup\n",
    "import requests\n",
    "num=42309\n",
    "for i in range(1,31):\n",
    "    url=\"https://timesofindia.indiatimes.com/2015/11/{0}/archivelist/year-2015,month-11,starttime-{1}.cms\".format(i,num)\n",
    "    print(url)\n",
    "    #a=a+int(i)\n",
    "    r = requests.get(url)\n",
    "    #time.sleep()\n",
    "    #print(r)\n",
    "    soup = BeautifulSoup(r.text, 'lxml')\n",
    "    a=soup.select(\".cnt table tr td a\")\n",
    "    for j,k in enumerate(a):\n",
    "        try:\n",
    "                \n",
    "        #print(j,k[\"href\"],sep=\"========\")\n",
    "            with open(\"TOIlink.csv\",\"a\",encoding=\"utf-8\") as f:\n",
    "                f.write(k[\"href\"]+\"\\n\")\n",
    "        except Exception as e: #base class\n",
    "            print(e)\n",
    "            \n",
    "\n",
    "    #time.sleep(10)\n",
    "    num+=1\n",
    "   "
   ]
  },
  {
   "cell_type": "code",
   "execution_count": 7,
   "metadata": {},
   "outputs": [
    {
     "name": "stdout",
     "output_type": "stream",
     "text": [
      "https://timesofindia.indiatimes.com/2015/11/1/archivelist/year-2015,month-11,starttime-42309.cms\n",
      "https://timesofindia.indiatimes.com/2015/11/2/archivelist/year-2015,month-11,starttime-42310.cms\n",
      "https://timesofindia.indiatimes.com/2015/11/3/archivelist/year-2015,month-11,starttime-42311.cms\n",
      "https://timesofindia.indiatimes.com/2015/11/4/archivelist/year-2015,month-11,starttime-42312.cms\n",
      "https://timesofindia.indiatimes.com/2015/11/5/archivelist/year-2015,month-11,starttime-42313.cms\n",
      "https://timesofindia.indiatimes.com/2015/11/6/archivelist/year-2015,month-11,starttime-42314.cms\n",
      "https://timesofindia.indiatimes.com/2015/11/7/archivelist/year-2015,month-11,starttime-42315.cms\n",
      "https://timesofindia.indiatimes.com/2015/11/8/archivelist/year-2015,month-11,starttime-42316.cms\n",
      "https://timesofindia.indiatimes.com/2015/11/9/archivelist/year-2015,month-11,starttime-42317.cms\n",
      "https://timesofindia.indiatimes.com/2015/11/10/archivelist/year-2015,month-11,starttime-42318.cms\n",
      "https://timesofindia.indiatimes.com/2015/11/11/archivelist/year-2015,month-11,starttime-42319.cms\n",
      "https://timesofindia.indiatimes.com/2015/11/12/archivelist/year-2015,month-11,starttime-42320.cms\n",
      "https://timesofindia.indiatimes.com/2015/11/13/archivelist/year-2015,month-11,starttime-42321.cms\n",
      "https://timesofindia.indiatimes.com/2015/11/14/archivelist/year-2015,month-11,starttime-42322.cms\n",
      "https://timesofindia.indiatimes.com/2015/11/15/archivelist/year-2015,month-11,starttime-42323.cms\n",
      "https://timesofindia.indiatimes.com/2015/11/16/archivelist/year-2015,month-11,starttime-42324.cms\n",
      "https://timesofindia.indiatimes.com/2015/11/17/archivelist/year-2015,month-11,starttime-42325.cms\n",
      "https://timesofindia.indiatimes.com/2015/11/18/archivelist/year-2015,month-11,starttime-42326.cms\n",
      "https://timesofindia.indiatimes.com/2015/11/19/archivelist/year-2015,month-11,starttime-42327.cms\n",
      "https://timesofindia.indiatimes.com/2015/11/20/archivelist/year-2015,month-11,starttime-42328.cms\n",
      "https://timesofindia.indiatimes.com/2015/11/21/archivelist/year-2015,month-11,starttime-42329.cms\n",
      "https://timesofindia.indiatimes.com/2015/11/22/archivelist/year-2015,month-11,starttime-42330.cms\n",
      "https://timesofindia.indiatimes.com/2015/11/23/archivelist/year-2015,month-11,starttime-42331.cms\n",
      "https://timesofindia.indiatimes.com/2015/11/24/archivelist/year-2015,month-11,starttime-42332.cms\n",
      "https://timesofindia.indiatimes.com/2015/11/25/archivelist/year-2015,month-11,starttime-42333.cms\n",
      "https://timesofindia.indiatimes.com/2015/11/26/archivelist/year-2015,month-11,starttime-42334.cms\n",
      "https://timesofindia.indiatimes.com/2015/11/27/archivelist/year-2015,month-11,starttime-42335.cms\n",
      "https://timesofindia.indiatimes.com/2015/11/28/archivelist/year-2015,month-11,starttime-42336.cms\n",
      "https://timesofindia.indiatimes.com/2015/11/29/archivelist/year-2015,month-11,starttime-42337.cms\n",
      "https://timesofindia.indiatimes.com/2015/11/30/archivelist/year-2015,month-11,starttime-42338.cms\n"
     ]
    }
   ],
   "source": [
    "#for text\n",
    "from bs4 import BeautifulSoup\n",
    "import requests\n",
    "num=42309\n",
    "for i in range(1,31):\n",
    "    url=\"https://timesofindia.indiatimes.com/2015/11/{0}/archivelist/year-2015,month-11,starttime-{1}.cms\".format(i,num)\n",
    "    print(url)\n",
    "    #a=a+int(i)\n",
    "    r = requests.get(url)\n",
    "    #time.sleep()\n",
    "    #print(r)\n",
    "    soup = BeautifulSoup(r.text, 'lxml')\n",
    "    a=soup.select(\".cnt table tr td a\")\n",
    "    for j,k in enumerate(a):\n",
    "        try:\n",
    "                \n",
    "        #print(j,k[\"href\"],sep=\"========\")\n",
    "            with open(\"TOItext.csv\",\"a\",encoding=\"utf-8\") as f:\n",
    "                f.write(k.text+\"\\n\")\n",
    "        except Exception as e: #base class\n",
    "            print(e)\n",
    "            \n",
    "\n",
    "    #time.sleep(10)\n",
    "    num+=1\n",
    "   "
   ]
  },
  {
   "cell_type": "code",
   "execution_count": null,
   "metadata": {},
   "outputs": [],
   "source": []
  }
 ],
 "metadata": {
  "kernelspec": {
   "display_name": "Python 3",
   "language": "python",
   "name": "python3"
  },
  "language_info": {
   "codemirror_mode": {
    "name": "ipython",
    "version": 3
   },
   "file_extension": ".py",
   "mimetype": "text/x-python",
   "name": "python",
   "nbconvert_exporter": "python",
   "pygments_lexer": "ipython3",
   "version": "3.8.5"
  }
 },
 "nbformat": 4,
 "nbformat_minor": 4
}
